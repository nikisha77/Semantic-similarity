{
 "cells": [
  {
   "cell_type": "markdown",
   "id": "c42ee533",
   "metadata": {},
   "source": [
    "\n",
    "The similarity between two sentences is calculated using the **WordNet WUP Similarity** method. Below is a detailed explanation of the process:\n",
    "\n",
    "1. **Tokenization**:\n",
    "    - Each sentence is tokenized into words using `word_tokenize()`.\n",
    "\n",
    "2. **POS Tagging**:\n",
    "    - Each token is assigned a Part-of-Speech (POS) tag using `pos_tag()`.\n",
    "\n",
    "3. **POS Mapping**:\n",
    "    - The POS tags are mapped to WordNet POS tags using the `get_wordnet_pos()` function.\n",
    "\n",
    "4. **Synset Extraction**:\n",
    "    - For each word in the sentences, WordNet synsets are retrieved based on the mapped POS tags.\n",
    "\n",
    "5. **Similarity Calculation**:\n",
    "    - For each pair of synsets (one from each sentence), the **Wu-Palmer Similarity (WUP)** is calculated using `wn.wup_similarity()`.\n",
    "    - The highest similarity score for each word in the first sentence is retained.\n",
    "\n",
    "6. **Final Score**:\n",
    "    - The average of the retained similarity scores is computed to give the final similarity score between the two sentences.\n"
   ]
  },
  {
   "cell_type": "code",
   "execution_count": null,
   "id": "ae213aa3",
   "metadata": {},
   "outputs": [
    {
     "name": "stderr",
     "output_type": "stream",
     "text": [
      "[nltk_data] Downloading package wordnet to /Users/nikisha/nltk_data...\n",
      "[nltk_data]   Package wordnet is already up-to-date!\n",
      "[nltk_data] Downloading package punkt to /Users/nikisha/nltk_data...\n",
      "[nltk_data]   Package punkt is already up-to-date!\n",
      "[nltk_data] Downloading package averaged_perceptron_tagger to\n",
      "[nltk_data]     /Users/nikisha/nltk_data...\n",
      "[nltk_data]   Unzipping taggers/averaged_perceptron_tagger.zip.\n"
     ]
    }
   ],
   "source": [
    "from nltk.corpus import wordnet as wn\n",
    "from nltk import word_tokenize, pos_tag\n",
    "import nltk\n",
    "\n",
    "nltk.download('wordnet')\n",
    "nltk.download('punkt')\n",
    "nltk.download('averaged_perceptron_tagger')\n",
    "\n",
    "def get_wordnet_pos(treebank_tag):\n",
    "    \"\"\"Map POS tag to first character for lemmatization.\"\"\"\n",
    "    if treebank_tag.startswith('J'):\n",
    "        return wn.ADJ\n",
    "    elif treebank_tag.startswith('V'):\n",
    "        return wn.VERB\n",
    "    elif treebank_tag.startswith('N'):\n",
    "        return wn.NOUN\n",
    "    elif treebank_tag.startswith('R'):\n",
    "        return wn.ADV\n",
    "    else:\n",
    "        return wn.NOUN\n",
    "\n",
    "def wup_similarity(sent1, sent2):\n",
    "    tokens1 = word_tokenize(sent1)\n",
    "    tokens2 = word_tokenize(sent2)\n",
    "    pos1 = pos_tag(tokens1)\n",
    "    pos2 = pos_tag(tokens2)\n",
    "\n",
    "    sims = []\n",
    "    for word1, tag1 in pos1:\n",
    "        synsets1 = wn.synsets(word1, pos=get_wordnet_pos(tag1))\n",
    "        if not synsets1:\n",
    "            continue\n",
    "        best_sim = 0\n",
    "        for word2, tag2 in pos2:\n",
    "            synsets2 = wn.synsets(word2, pos=get_wordnet_pos(tag2))\n",
    "            for syn1 in synsets1:\n",
    "                for syn2 in synsets2:\n",
    "                    sim = wn.wup_similarity(syn1, syn2)\n",
    "                    if sim and sim > best_sim:\n",
    "                        best_sim = sim\n",
    "        if best_sim:\n",
    "            sims.append(best_sim)\n",
    "\n",
    "    return sum(sims) / len(sims) if sims else 0.0\n",
    "\n"
   ]
  },
  {
   "cell_type": "code",
   "execution_count": 2,
   "id": "b6b466c1",
   "metadata": {},
   "outputs": [
    {
     "name": "stdout",
     "output_type": "stream",
     "text": [
      "WordNet WUP Similarity: 0.8036\n"
     ]
    }
   ],
   "source": [
    "sent1 = \"Dogs are wonderful pets.\"\n",
    "sent2 = \"Cats are amazing companions.\"\n",
    "score = wup_similarity(sent1, sent2)\n",
    "print(f\"WordNet WUP Similarity: {score:.4f}\")"
   ]
  }
 ],
 "metadata": {
  "kernelspec": {
   "display_name": "base",
   "language": "python",
   "name": "python3"
  },
  "language_info": {
   "codemirror_mode": {
    "name": "ipython",
    "version": 3
   },
   "file_extension": ".py",
   "mimetype": "text/x-python",
   "name": "python",
   "nbconvert_exporter": "python",
   "pygments_lexer": "ipython3",
   "version": "3.12.9"
  }
 },
 "nbformat": 4,
 "nbformat_minor": 5
}
