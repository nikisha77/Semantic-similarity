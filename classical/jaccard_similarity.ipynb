{
 "cells": [
  {
   "cell_type": "markdown",
   "id": "6b5e7216",
   "metadata": {},
   "source": [
    "### Jaccard Similarity Function\n",
    "\n",
    "The `jaccard_similarity` function calculates the similarity between two sentences based on the Jaccard index. It works by splitting the sentences into sets of words, finding the intersection and union of these sets, and then dividing the size of the intersection by the size of the union.\n",
    "\n",
    "Below is an example of how to use this function with two sentences."
   ]
  },
  {
   "cell_type": "code",
   "execution_count": 3,
   "id": "c8a1eafd",
   "metadata": {},
   "outputs": [],
   "source": [
    "def jaccard_similarity(sent1, sent2):\n",
    "    set1 = set(sent1.lower().split())\n",
    "    set2 = set(sent2.lower().split())\n",
    "    intersection = set1 & set2\n",
    "    union = set1 | set2\n",
    "    return len(intersection) / len(union) if union else 0.0\n"
   ]
  },
  {
   "cell_type": "code",
   "execution_count": 5,
   "id": "f3db3cac",
   "metadata": {},
   "outputs": [
    {
     "name": "stdout",
     "output_type": "stream",
     "text": [
      "Jaccard Similarity: 0.1429\n"
     ]
    }
   ],
   "source": [
    "sent1 = \"Dogs are wonderful pets.\"\n",
    "sent2 = \"Cats are amazing companions.\"\n",
    "score = jaccard_similarity(sent1, sent2)\n",
    "print(f\"Jaccard Similarity: {score:.4f}\")"
   ]
  },
  {
   "cell_type": "code",
   "execution_count": null,
   "id": "1d5620b5",
   "metadata": {},
   "outputs": [],
   "source": []
  }
 ],
 "metadata": {
  "kernelspec": {
   "display_name": "base",
   "language": "python",
   "name": "python3"
  },
  "language_info": {
   "codemirror_mode": {
    "name": "ipython",
    "version": 3
   },
   "file_extension": ".py",
   "mimetype": "text/x-python",
   "name": "python",
   "nbconvert_exporter": "python",
   "pygments_lexer": "ipython3",
   "version": "3.12.9"
  }
 },
 "nbformat": 4,
 "nbformat_minor": 5
}
