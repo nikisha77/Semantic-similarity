{
 "cells": [
  {
   "cell_type": "markdown",
   "id": "1997cca0",
   "metadata": {},
   "source": [
    "## What is TF-IDF\n",
    "\n",
    "TF-IDF for sentence similarity involves representing each sentence as a vector where each element corresponds to a unique word across all sentences, and the value of each element is the TF-IDF score of that word in the sentence. The TF-IDF score for a word in a sentence is calculated by multiplying its Term Frequency (how often it appears in that sentence) by its Inverse Document Frequency (how rare it is across all sentences). Sentences with similar meanings will have vectors with high TF-IDF scores for the same important and rare words, and their similarity can then be quantified using measures like cosine similarity, which calculates the cosine of the angle between the two sentence vectors; a higher cosine value indicates greater similarity."
   ]
  },
  {
   "cell_type": "code",
   "execution_count": 5,
   "id": "33156753",
   "metadata": {},
   "outputs": [],
   "source": [
    "from sklearn.feature_extraction.text import TfidfVectorizer\n",
    "from sklearn.metrics.pairwise import cosine_similarity"
   ]
  },
  {
   "cell_type": "code",
   "execution_count": 6,
   "id": "921f2366",
   "metadata": {},
   "outputs": [],
   "source": [
    "def tfidf_cosine_similarity(s1, s2):\n",
    "    vectorizer = TfidfVectorizer()\n",
    "    tfidf = vectorizer.fit_transform([s1, s2])\n",
    "    sim = cosine_similarity(tfidf[0:1], tfidf[1:2])[0][0]\n",
    "    return sim"
   ]
  },
  {
   "cell_type": "code",
   "execution_count": null,
   "id": "6af354d6",
   "metadata": {},
   "outputs": [
    {
     "name": "stdout",
     "output_type": "stream",
     "text": [
      "TF-IDF Cosine Similarity: 0.1444\n"
     ]
    }
   ],
   "source": [
    "sent1 = \"Dogs are wonderful pets.\"\n",
    "sent2 = \"Cats are amazing companions.\"\n",
    "score = tfidf_cosine_similarity(sent1, sent2)\n",
    "print(f\"TF-IDF Cosine Similarity: {score:.4f}\")"
   ]
  }
 ],
 "metadata": {
  "kernelspec": {
   "display_name": "base",
   "language": "python",
   "name": "python3"
  },
  "language_info": {
   "codemirror_mode": {
    "name": "ipython",
    "version": 3
   },
   "file_extension": ".py",
   "mimetype": "text/x-python",
   "name": "python",
   "nbconvert_exporter": "python",
   "pygments_lexer": "ipython3",
   "version": "3.12.9"
  }
 },
 "nbformat": 4,
 "nbformat_minor": 5
}
