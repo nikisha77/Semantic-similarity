{
 "cells": [
  {
   "cell_type": "markdown",
   "id": "9b06c330",
   "metadata": {},
   "source": [
    "Model: all-MiniLM-L6-v2\n",
    "all-MiniLM-L6-v2 is indeed a commonly used model in Sentence-BERT, designed to be smaller and faster while still providing high-quality sentence embeddings.\n",
    "\n",
    "Embedding Strategy: Sentence-BERT uses siamese and triplet networks, which are explicitly trained for sentence similarity tasks, with training on Natural Language Inference (NLI) and paraphrase datasets. This allows SBERT to capture semantic meaning more effectively than BERT.\n",
    "\n",
    "Strengths:\n",
    "The information here is correct: SBERT is optimized for semantic textual similarity (STS) tasks and is faster than the original BERT model.\n",
    "\n",
    "Use Case: SBERT is indeed commonly used for real-time applications like semantic search, deduplication, and similarity matching"
   ]
  },
  {
   "cell_type": "code",
   "execution_count": 1,
   "id": "d753f705",
   "metadata": {},
   "outputs": [
    {
     "name": "stdout",
     "output_type": "stream",
     "text": [
      "Requirement already satisfied: transformers in /Users/nikisha/miniconda3/lib/python3.12/site-packages (4.51.3)\n",
      "Requirement already satisfied: sentence-transformers in /Users/nikisha/miniconda3/lib/python3.12/site-packages (4.1.0)\n",
      "Requirement already satisfied: scikit-learn in /Users/nikisha/miniconda3/lib/python3.12/site-packages (1.3.2)\n",
      "Requirement already satisfied: filelock in /Users/nikisha/miniconda3/lib/python3.12/site-packages (from transformers) (3.18.0)\n",
      "Requirement already satisfied: huggingface-hub<1.0,>=0.30.0 in /Users/nikisha/miniconda3/lib/python3.12/site-packages (from transformers) (0.30.2)\n",
      "Requirement already satisfied: numpy>=1.17 in /Users/nikisha/miniconda3/lib/python3.12/site-packages (from transformers) (1.26.4)\n",
      "Requirement already satisfied: packaging>=20.0 in /Users/nikisha/miniconda3/lib/python3.12/site-packages (from transformers) (23.2)\n",
      "Requirement already satisfied: pyyaml>=5.1 in /Users/nikisha/miniconda3/lib/python3.12/site-packages (from transformers) (6.0.2)\n",
      "Requirement already satisfied: regex!=2019.12.17 in /Users/nikisha/miniconda3/lib/python3.12/site-packages (from transformers) (2024.11.6)\n",
      "Requirement already satisfied: requests in /Users/nikisha/miniconda3/lib/python3.12/site-packages (from transformers) (2.32.3)\n",
      "Requirement already satisfied: tokenizers<0.22,>=0.21 in /Users/nikisha/miniconda3/lib/python3.12/site-packages (from transformers) (0.21.1)\n",
      "Requirement already satisfied: safetensors>=0.4.3 in /Users/nikisha/miniconda3/lib/python3.12/site-packages (from transformers) (0.5.3)\n",
      "Requirement already satisfied: tqdm>=4.27 in /Users/nikisha/miniconda3/lib/python3.12/site-packages (from transformers) (4.67.1)\n",
      "Requirement already satisfied: torch>=1.11.0 in /Users/nikisha/miniconda3/lib/python3.12/site-packages (from sentence-transformers) (2.7.0)\n",
      "Requirement already satisfied: scipy in /Users/nikisha/miniconda3/lib/python3.12/site-packages (from sentence-transformers) (1.13.1)\n",
      "Requirement already satisfied: Pillow in /Users/nikisha/miniconda3/lib/python3.12/site-packages (from sentence-transformers) (10.4.0)\n",
      "Requirement already satisfied: typing_extensions>=4.5.0 in /Users/nikisha/miniconda3/lib/python3.12/site-packages (from sentence-transformers) (4.12.2)\n",
      "Requirement already satisfied: joblib>=1.1.1 in /Users/nikisha/miniconda3/lib/python3.12/site-packages (from scikit-learn) (1.4.2)\n",
      "Requirement already satisfied: threadpoolctl>=2.0.0 in /Users/nikisha/miniconda3/lib/python3.12/site-packages (from scikit-learn) (3.6.0)\n",
      "Requirement already satisfied: fsspec>=2023.5.0 in /Users/nikisha/miniconda3/lib/python3.12/site-packages (from huggingface-hub<1.0,>=0.30.0->transformers) (2025.3.2)\n",
      "Requirement already satisfied: setuptools in /Users/nikisha/miniconda3/lib/python3.12/site-packages (from torch>=1.11.0->sentence-transformers) (75.8.0)\n",
      "Requirement already satisfied: sympy>=1.13.3 in /Users/nikisha/miniconda3/lib/python3.12/site-packages (from torch>=1.11.0->sentence-transformers) (1.14.0)\n",
      "Requirement already satisfied: networkx in /Users/nikisha/miniconda3/lib/python3.12/site-packages (from torch>=1.11.0->sentence-transformers) (3.4.2)\n",
      "Requirement already satisfied: jinja2 in /Users/nikisha/miniconda3/lib/python3.12/site-packages (from torch>=1.11.0->sentence-transformers) (3.1.6)\n",
      "Requirement already satisfied: charset-normalizer<4,>=2 in /Users/nikisha/miniconda3/lib/python3.12/site-packages (from requests->transformers) (3.3.2)\n",
      "Requirement already satisfied: idna<4,>=2.5 in /Users/nikisha/miniconda3/lib/python3.12/site-packages (from requests->transformers) (3.7)\n",
      "Requirement already satisfied: urllib3<3,>=1.21.1 in /Users/nikisha/miniconda3/lib/python3.12/site-packages (from requests->transformers) (2.3.0)\n",
      "Requirement already satisfied: certifi>=2017.4.17 in /Users/nikisha/miniconda3/lib/python3.12/site-packages (from requests->transformers) (2025.1.31)\n",
      "Requirement already satisfied: mpmath<1.4,>=1.1.0 in /Users/nikisha/miniconda3/lib/python3.12/site-packages (from sympy>=1.13.3->torch>=1.11.0->sentence-transformers) (1.3.0)\n",
      "Requirement already satisfied: MarkupSafe>=2.0 in /Users/nikisha/miniconda3/lib/python3.12/site-packages (from jinja2->torch>=1.11.0->sentence-transformers) (3.0.2)\n"
     ]
    }
   ],
   "source": [
    "! pip install transformers sentence-transformers scikit-learn"
   ]
  },
  {
   "cell_type": "code",
   "execution_count": 2,
   "id": "ef9f0c14",
   "metadata": {},
   "outputs": [
    {
     "name": "stderr",
     "output_type": "stream",
     "text": [
      "/Users/nikisha/miniconda3/lib/python3.12/site-packages/tqdm/auto.py:21: TqdmWarning: IProgress not found. Please update jupyter and ipywidgets. See https://ipywidgets.readthedocs.io/en/stable/user_install.html\n",
      "  from .autonotebook import tqdm as notebook_tqdm\n"
     ]
    }
   ],
   "source": [
    "from sentence_transformers import SentenceTransformer, util\n",
    "\n",
    "def compute_similarity(sent1, sent2):\n",
    "    model = SentenceTransformer('all-MiniLM-L6-v2')\n",
    "    embeddings = model.encode([sent1, sent2])\n",
    "    return util.cos_sim(embeddings[0], embeddings[1]).item()\n"
   ]
  },
  {
   "cell_type": "code",
   "execution_count": 3,
   "id": "9f9f8637",
   "metadata": {},
   "outputs": [
    {
     "name": "stdout",
     "output_type": "stream",
     "text": [
      "Sentence-BERT Similarity: 0.8202\n"
     ]
    }
   ],
   "source": [
    "sent1 = \"Despite growing up in completely different environments, both Alice and her childhood friend eventually found themselves pursuing careers in environmental policy, driven by a shared passion for combating climate change and creating a sustainable future for the next generation.\"\n",
    "sent2 = \"Although raised in separate parts of the world, Alice and her best friend ended up working in environmental advocacy, motivated by their mutual concern for the planet and a desire to leave a positive legacy for future generations.\"\n",
    "score = compute_similarity(sent1, sent2)\n",
    "print(f\"Sentence-BERT Similarity: {score:.4f}\")"
   ]
  }
 ],
 "metadata": {
  "kernelspec": {
   "display_name": "base",
   "language": "python",
   "name": "python3"
  },
  "language_info": {
   "codemirror_mode": {
    "name": "ipython",
    "version": 3
   },
   "file_extension": ".py",
   "mimetype": "text/x-python",
   "name": "python",
   "nbconvert_exporter": "python",
   "pygments_lexer": "ipython3",
   "version": "3.12.9"
  }
 },
 "nbformat": 4,
 "nbformat_minor": 5
}
