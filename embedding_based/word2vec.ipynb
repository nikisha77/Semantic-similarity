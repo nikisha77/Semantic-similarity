{
 "cells": [
  {
   "cell_type": "markdown",
   "id": "57d869bc",
   "metadata": {},
   "source": [
    "## Word2Vec Cosine Similarity Calculation\n",
    "\n",
    "This notebook demonstrates how to calculate the cosine similarity between two sentences using pre-trained Word2Vec embeddings. The process involves the following steps:\n",
    "\n",
    "#### Overview\n",
    "\n",
    "\n",
    "1. **Pre-trained Model**:\n",
    "    - We use the `word2vec-google-news-300` model, which is a pre-trained Word2Vec model trained on a large corpus of Google News data.\n",
    "\n",
    "2. **Cosine Similarity**:\n",
    "    - The similarity between the two sentences is computed using the cosine similarity metric. This metric measures the cosine of the angle between two vectors in a multi-dimensional space, providing a value between -1 and 1. A value closer to 1 indicates higher similarity.\n",
    "\n",
    "#### Implementation Details\n",
    "\n",
    "1. **Sentence Vectorization**:\n",
    "    - Each sentence is converted into a vector representation by averaging the Word2Vec embeddings of the words present in the sentence. Words not found in the model's vocabulary are ignored.\n",
    "\n",
    "2. **Similarity Calculation**:\n",
    "    - The cosine similarity is calculated between the two sentence vectors.\n"
   ]
  },
  {
   "cell_type": "code",
   "execution_count": 3,
   "id": "cc93f281",
   "metadata": {},
   "outputs": [
    {
     "name": "stdout",
     "output_type": "stream",
     "text": [
      "Collecting gensim\n",
      "  Downloading gensim-4.3.3-cp312-cp312-macosx_11_0_arm64.whl.metadata (8.1 kB)\n",
      "Requirement already satisfied: numpy<2.0,>=1.18.5 in /Users/nikisha/miniconda3/lib/python3.12/site-packages (from gensim) (1.26.4)\n",
      "Collecting scipy<1.14.0,>=1.7.0 (from gensim)\n",
      "  Downloading scipy-1.13.1-cp312-cp312-macosx_12_0_arm64.whl.metadata (60 kB)\n",
      "Requirement already satisfied: smart-open>=1.8.1 in /Users/nikisha/miniconda3/lib/python3.12/site-packages (from gensim) (6.4.0)\n",
      "Downloading gensim-4.3.3-cp312-cp312-macosx_11_0_arm64.whl (24.0 MB)\n",
      "\u001b[2K   \u001b[90m━━━━━━━━━━━━━━━━━━━━━━━━━━━━━━━━━━━━━━━━\u001b[0m \u001b[32m24.0/24.0 MB\u001b[0m \u001b[31m1.9 MB/s\u001b[0m eta \u001b[36m0:00:00\u001b[0m00:01\u001b[0m00:01\u001b[0m\n",
      "\u001b[?25hDownloading scipy-1.13.1-cp312-cp312-macosx_12_0_arm64.whl (30.4 MB)\n",
      "\u001b[2K   \u001b[90m━━━━━━━━━━━━━━━━━━━━━━━━━━━━━━━━━━━━━━━━\u001b[0m \u001b[32m30.4/30.4 MB\u001b[0m \u001b[31m2.1 MB/s\u001b[0m eta \u001b[36m0:00:00\u001b[0m00:01\u001b[0m00:01\u001b[0m\n",
      "\u001b[?25hInstalling collected packages: scipy, gensim\n",
      "  Attempting uninstall: scipy\n",
      "    Found existing installation: scipy 1.15.2\n",
      "    Uninstalling scipy-1.15.2:\n",
      "      Successfully uninstalled scipy-1.15.2\n",
      "Successfully installed gensim-4.3.3 scipy-1.13.1\n"
     ]
    }
   ],
   "source": [
    "!pip install gensim "
   ]
  },
  {
   "cell_type": "code",
   "execution_count": 4,
   "id": "703437da",
   "metadata": {},
   "outputs": [],
   "source": [
    "import gensim.downloader as api\n",
    "from sklearn.metrics.pairwise import cosine_similarity\n",
    "import numpy as np"
   ]
  },
  {
   "cell_type": "code",
   "execution_count": 5,
   "id": "aff8695d",
   "metadata": {},
   "outputs": [
    {
     "name": "stdout",
     "output_type": "stream",
     "text": [
      "[==================================================] 100.0% 1662.8/1662.8MB downloaded\n",
      "Word2Vec Cosine Similarity: 0.8374\n"
     ]
    }
   ],
   "source": [
    "\n",
    "def average_vector(sentence, model):\n",
    "    words = [word.lower() for word in sentence.split() if word in model]\n",
    "    if not words:\n",
    "        return np.zeros(model.vector_size)\n",
    "    return np.mean([model[word] for word in words], axis=0)\n",
    "\n",
    "def word2vec_cosine(sent1, sent2):\n",
    "    model = api.load('word2vec-google-news-300')\n",
    "    vec1 = average_vector(sent1, model)\n",
    "    vec2 = average_vector(sent2, model)\n",
    "    return cosine_similarity([vec1], [vec2])[0][0]\n",
    "\n",
    "\n",
    "sent1 = \"Dogs are wonderful pets.\"\n",
    "sent2 = \"Cats are amazing companions.\"\n",
    "score = word2vec_cosine(sent1, sent2)\n",
    "print(f\"Word2Vec Cosine Similarity: {score:.4f}\")\n"
   ]
  }
 ],
 "metadata": {
  "kernelspec": {
   "display_name": "base",
   "language": "python",
   "name": "python3"
  },
  "language_info": {
   "codemirror_mode": {
    "name": "ipython",
    "version": 3
   },
   "file_extension": ".py",
   "mimetype": "text/x-python",
   "name": "python",
   "nbconvert_exporter": "python",
   "pygments_lexer": "ipython3",
   "version": "3.12.9"
  }
 },
 "nbformat": 4,
 "nbformat_minor": 5
}
