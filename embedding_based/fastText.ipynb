{
 "cells": [
  {
   "cell_type": "markdown",
   "id": "3202ede7",
   "metadata": {},
   "source": [
    "###  FastText Cosine Similarity Method\n",
    "\n",
    "A powerful word embedding model developed by Facebook AI Research (FAIR), to compute the semantic similarity between two sentences.\n",
    "\n",
    "FastText is unique because it doesn't just look at whole words — it breaks them down into **character-level n-grams**, which means it can generate embeddings for **out-of-vocabulary (OOV)** words like typos, rare words, or even newly coined terms. This makes it more robust than traditional models like Word2Vec and GloVe.\n"
   ]
  },
  {
   "cell_type": "code",
   "execution_count": 1,
   "id": "c33c4216",
   "metadata": {},
   "outputs": [],
   "source": [
    "import gensim.downloader as api\n",
    "from sklearn.metrics.pairwise import cosine_similarity\n",
    "import numpy as np\n"
   ]
  },
  {
   "cell_type": "code",
   "execution_count": 5,
   "id": "40d6d781",
   "metadata": {},
   "outputs": [],
   "source": [
    "def average_vector(sentence, model):\n",
    "    words = [word.lower() for word in sentence.split() if word.lower() in model]\n",
    "    if not words:\n",
    "        return np.zeros(model.vector_size)\n",
    "    return np.mean([model[word] for word in words], axis=0)\n",
    "\n",
    "def fasttext_cosine(sent1, sent2):\n",
    "    model = api.load('fasttext-wiki-news-subwords-300')\n",
    "    vec1 = average_vector(sent1, model)\n",
    "    vec2 = average_vector(sent2, model)\n",
    "    return cosine_similarity([vec1], [vec2])[0][0]\n"
   ]
  },
  {
   "cell_type": "code",
   "execution_count": 6,
   "id": "3b64e77b",
   "metadata": {},
   "outputs": [
    {
     "name": "stdout",
     "output_type": "stream",
     "text": [
      "FastText Cosine Similarity: 0.9142\n"
     ]
    }
   ],
   "source": [
    "sent1 = \"Dogs are wonderful pets.\"\n",
    "sent2 = \"Cats are amazing companions.\"\n",
    "score = fasttext_cosine(sent1, sent2)\n",
    "print(f\"FastText Cosine Similarity: {score:.4f}\")"
   ]
  }
 ],
 "metadata": {
  "kernelspec": {
   "display_name": "base",
   "language": "python",
   "name": "python3"
  },
  "language_info": {
   "codemirror_mode": {
    "name": "ipython",
    "version": 3
   },
   "file_extension": ".py",
   "mimetype": "text/x-python",
   "name": "python",
   "nbconvert_exporter": "python",
   "pygments_lexer": "ipython3",
   "version": "3.12.9"
  }
 },
 "nbformat": 4,
 "nbformat_minor": 5
}
