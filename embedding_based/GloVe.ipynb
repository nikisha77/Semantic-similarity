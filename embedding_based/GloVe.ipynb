{
 "cells": [
  {
   "cell_type": "markdown",
   "id": "91891eda",
   "metadata": {},
   "source": [
    "### GloVe\n",
    "\n",
    "\n",
    "1. **Word Embeddings**:\n",
    "    - GloVe (Global Vectors for Word Representation) is a pre-trained word embedding model that represents words as dense vectors in a high-dimensional space. These embeddings capture semantic relationships between words.\n",
    "\n",
    "2. **Sentence Representation**:\n",
    "    - Each sentence is represented as the average of the GloVe vectors of the words it contains. This is done using the `average_vector` function, which filters out words not present in the GloVe vocabulary and computes the mean vector.\n",
    "\n",
    "3. **Cosine Similarity**:\n",
    "    - The similarity between two sentence vectors is calculated using cosine similarity. This metric measures the cosine of the angle between two vectors, providing a value between -1 and 1, where 1 indicates identical vectors, 0 indicates orthogonality, and -1 indicates opposite vectors.\n",
    "\n",
    "4. **Applications**:\n",
    "    - This method is commonly used in natural language processing tasks such as text similarity, information retrieval, and clustering.\n"
   ]
  },
  {
   "cell_type": "code",
   "execution_count": null,
   "id": "55e37eb1",
   "metadata": {},
   "outputs": [],
   "source": [
    "!pip install gensim"
   ]
  },
  {
   "cell_type": "code",
   "execution_count": 1,
   "id": "9400a9c0",
   "metadata": {},
   "outputs": [],
   "source": [
    "import gensim.downloader as api\n",
    "from sklearn.metrics.pairwise import cosine_similarity\n",
    "import numpy as np"
   ]
  },
  {
   "cell_type": "code",
   "execution_count": 2,
   "id": "66a9f617",
   "metadata": {},
   "outputs": [],
   "source": [
    "def average_vector(sentence, model):\n",
    "    words = [word.lower() for word in sentence.split() if word in model]\n",
    "    if not words:\n",
    "        return np.zeros(model.vector_size)\n",
    "    return np.mean([model[word] for word in words], axis=0)\n",
    "\n",
    "def glove_cosine(sent1, sent2):\n",
    "    model = api.load('glove-wiki-gigaword-100')\n",
    "    vec1 = average_vector(sent1, model)\n",
    "    vec2 = average_vector(sent2, model)\n",
    "    return cosine_similarity([vec1], [vec2])[0][0]\n"
   ]
  },
  {
   "cell_type": "code",
   "execution_count": 3,
   "id": "803d4694",
   "metadata": {},
   "outputs": [
    {
     "name": "stdout",
     "output_type": "stream",
     "text": [
      "[==================================================] 100.0% 128.1/128.1MB downloaded\n",
      "GloVe Cosine Similarity: 0.9518\n"
     ]
    }
   ],
   "source": [
    "sent1 = \"Dogs are wonderful pets.\"\n",
    "sent2 = \"Cats are amazing companions.\"\n",
    "score = glove_cosine(sent1, sent2)\n",
    "print(f\"GloVe Cosine Similarity: {score:.4f}\")"
   ]
  }
 ],
 "metadata": {
  "kernelspec": {
   "display_name": "base",
   "language": "python",
   "name": "python3"
  },
  "language_info": {
   "codemirror_mode": {
    "name": "ipython",
    "version": 3
   },
   "file_extension": ".py",
   "mimetype": "text/x-python",
   "name": "python",
   "nbconvert_exporter": "python",
   "pygments_lexer": "ipython3",
   "version": "3.12.9"
  }
 },
 "nbformat": 4,
 "nbformat_minor": 5
}
